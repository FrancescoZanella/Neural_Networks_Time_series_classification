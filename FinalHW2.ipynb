{
  "nbformat": 4,
  "nbformat_minor": 0,
  "metadata": {
    "colab": {
      "provenance": [],
      "include_colab_link": true
    },
    "kernelspec": {
      "name": "python3",
      "display_name": "Python 3"
    },
    "language_info": {
      "name": "python"
    }
  },
  "cells": [
    {
      "cell_type": "markdown",
      "metadata": {
        "id": "view-in-github",
        "colab_type": "text"
      },
      "source": [
        "<a href=\"https://colab.research.google.com/github/FrancescoZanella/Neural_Networks_Time_series_classification/blob/main/FinalHW2.ipynb\" target=\"_parent\"><img src=\"https://colab.research.google.com/assets/colab-badge.svg\" alt=\"Open In Colab\"/></a>"
      ]
    },
    {
      "cell_type": "code",
      "execution_count": null,
      "metadata": {
        "colab": {
          "base_uri": "https://localhost:8080/"
        },
        "id": "1u14TZZUi3lU",
        "outputId": "1380a0cc-86ba-4dff-e1f6-c27b5881275f"
      },
      "outputs": [
        {
          "output_type": "stream",
          "name": "stdout",
          "text": [
            "Mounted at /gdrive\n"
          ]
        }
      ],
      "source": [
        "from google.colab import drive\n",
        "drive.mount('/gdrive')"
      ]
    },
    {
      "cell_type": "code",
      "source": [
        "%cd /gdrive/My Drive/homework2"
      ],
      "metadata": {
        "colab": {
          "base_uri": "https://localhost:8080/"
        },
        "id": "gusefNthi9nQ",
        "outputId": "e6e57efc-16d5-474a-e6cd-1e4e9e32d865"
      },
      "execution_count": null,
      "outputs": [
        {
          "output_type": "stream",
          "name": "stdout",
          "text": [
            "/gdrive/My Drive/homework2\n"
          ]
        }
      ]
    },
    {
      "cell_type": "code",
      "source": [
        "import tensorflow as tf\n",
        "import numpy as np\n",
        "import os\n",
        "import random\n",
        "import pandas as pd\n",
        "import seaborn as sns\n",
        "import matplotlib.pyplot as plt\n",
        "plt.rc('font', size=16)\n",
        "from sklearn.metrics import accuracy_score, f1_score, precision_score, recall_score\n",
        "from sklearn.metrics import confusion_matrix\n",
        "from sklearn.preprocessing import MinMaxScaler\n",
        "import warnings\n",
        "import logging\n",
        "\n",
        "tfk = tf.keras\n",
        "tfkl = tf.keras.layers\n",
        "print(tf.__version__)"
      ],
      "metadata": {
        "colab": {
          "base_uri": "https://localhost:8080/"
        },
        "id": "T2t2a2YRi_VK",
        "outputId": "e6479f72-3d31-404f-e25f-655f7298dc83"
      },
      "execution_count": null,
      "outputs": [
        {
          "output_type": "stream",
          "name": "stdout",
          "text": [
            "2.9.2\n"
          ]
        }
      ]
    },
    {
      "cell_type": "code",
      "source": [
        "# Random seed for reproducibility\n",
        "seed = 42\n",
        "\n",
        "random.seed(seed)\n",
        "os.environ['PYTHONHASHSEED'] = str(seed)\n",
        "np.random.seed(seed)\n",
        "tf.random.set_seed(seed)\n",
        "tf.compat.v1.set_random_seed(seed)"
      ],
      "metadata": {
        "id": "1NiAIccrjBb1"
      },
      "execution_count": null,
      "outputs": []
    },
    {
      "cell_type": "code",
      "source": [
        "!unzip /gdrive/MyDrive/homework2/training_dataset_homework2.zip"
      ],
      "metadata": {
        "id": "XEONyvTAjD3q"
      },
      "execution_count": null,
      "outputs": []
    },
    {
      "cell_type": "code",
      "source": [
        "X_train = np.load('x_train.npy');\n",
        "Y_train = np.load('y_train.npy')\n",
        "X_train.shape, Y_train.shape"
      ],
      "metadata": {
        "colab": {
          "base_uri": "https://localhost:8080/"
        },
        "id": "qvJwghEXjGXF",
        "outputId": "f21b4031-3790-4646-fd05-ea91c7cba647"
      },
      "execution_count": null,
      "outputs": [
        {
          "output_type": "execute_result",
          "data": {
            "text/plain": [
              "((2429, 36, 6), (2429,))"
            ]
          },
          "metadata": {},
          "execution_count": 16
        }
      ]
    },
    {
      "cell_type": "markdown",
      "source": [
        "#Train, validation split"
      ],
      "metadata": {
        "id": "TDh22fzikGq5"
      }
    },
    {
      "cell_type": "code",
      "source": [
        "from sklearn.model_selection import train_test_split\n",
        "X_train, X_val, Y_train, Y_val = train_test_split(X_train, Y_train, test_size = 0.1, random_state=seed, stratify = Y_train)\n",
        "#splitting training data and validation data, validation size 10% of whole data, everytime the same split.\n",
        "print(X_train.shape, X_val.shape)"
      ],
      "metadata": {
        "colab": {
          "base_uri": "https://localhost:8080/"
        },
        "id": "5f1jUufJjGUj",
        "outputId": "295dcfbc-c80b-4f75-9719-5d401adb32ce"
      },
      "execution_count": null,
      "outputs": [
        {
          "output_type": "stream",
          "name": "stdout",
          "text": [
            "(2186, 36, 6) (243, 36, 6)\n"
          ]
        }
      ]
    },
    {
      "cell_type": "markdown",
      "source": [
        "#Mean, standard deviation"
      ],
      "metadata": {
        "id": "BCgYCDNMkLhf"
      }
    },
    {
      "cell_type": "code",
      "source": [
        "# Compute mean and standard deviation of every sample\n",
        "mean = np.ones(X_train.shape[0])\n",
        "std = np.ones(X_train.shape[0])\n",
        "for i in range(X_train.shape[0]):\n",
        "  mean[i] = np.mean(X_train[i,:,:])\n",
        "  std[i] = np.std(X_train[i,:,:])"
      ],
      "metadata": {
        "id": "YFtrMLN0jXSV"
      },
      "execution_count": null,
      "outputs": []
    },
    {
      "cell_type": "markdown",
      "source": [
        "#Data augmentation"
      ],
      "metadata": {
        "id": "mdhIKBggkS9i"
      }
    },
    {
      "cell_type": "code",
      "source": [
        "import copy\n",
        "\n",
        "X_train_gpt1 = copy.copy(X_train)\n",
        "X_train_gpt2 = copy.copy(X_train)\n",
        "# Loop over all samples\n",
        "for i in range(X_train.shape[0]):\n",
        "\n",
        "  # Shift the data by a random amount\n",
        "  shift = np.random.randint(-1.5, 1.5)\n",
        "  X_train_gpt1[i,:,:] = np.roll(X_train_gpt1[i,:,:], shift, axis=0)\n",
        "\n",
        "  # Scale the data by a random factor\n",
        "  scale = np.random.uniform(0.3, 2)\n",
        "  X_train_gpt2[i,:,:] = X_train_gpt2[i,:,:] * scale\n",
        "\n",
        "# Save in X_train_copy a copy of X_train to which we add a scaled normale noise\n",
        "# Then we repeat this procedure\n",
        "X_train_copy = copy.copy(X_train)\n",
        "for i in range(X_train.shape[0]):\n",
        "  for j in range(X_train.shape[2]):\n",
        "    X_train_copy[i,:,j] = X_train_copy[i,:,j] + 0.25*np.random.normal(0,std[i],36)\n",
        "\n",
        "X_train_copy1 = copy.copy(X_train)\n",
        "for i in range(X_train.shape[0]):\n",
        "  for j in range(X_train.shape[2]):\n",
        "    X_train_copy1[i,:,j] = X_train_copy1[i,:,j] + 0.25*np.random.normal(0,std[i],36)\n",
        "\n",
        "X_train_copy2 = copy.copy(X_train)\n",
        "for i in range(X_train.shape[0]):\n",
        "  for j in range(X_train.shape[2]):\n",
        "    X_train_copy2[i,:,j] = X_train_copy2[i,:,j] + 0.25*np.random.normal(0,std[i],36)\n",
        "\n",
        "X_train_copy3 = copy.copy(X_train)\n",
        "for i in range(X_train.shape[0]):\n",
        "  for j in range(X_train.shape[2]):\n",
        "    X_train_copy3[i,:,j] = X_train_copy3[i,:,j] + 0.25*np.random.normal(0,std[i],36)\n",
        "\n",
        "X_train_copy4 = copy.copy(X_train)\n",
        "for i in range(X_train.shape[0]):\n",
        "  for j in range(X_train.shape[2]):\n",
        "    X_train_copy4[i,:,j] = X_train_copy4[i,:,j] + 0.25*np.random.normal(0,std[i],36)\n",
        "\n",
        "X_train_copy5 = copy.copy(X_train)\n",
        "for i in range(X_train.shape[0]):\n",
        "  for j in range(X_train.shape[2]):\n",
        "    X_train_copy5[i,:,j] = X_train_copy5[i,:,j] + 0.25*np.random.normal(0,std[i],36)\n",
        "\n",
        "# Concatenate all the obtained vectors\n",
        "X_train = np.concatenate((X_train,X_train_copy), axis = 0)\n",
        "X_train = np.concatenate((X_train,X_train_copy1), axis = 0)\n",
        "X_train = np.concatenate((X_train,X_train_copy2), axis = 0)\n",
        "X_train = np.concatenate((X_train,X_train_copy3), axis = 0)\n",
        "X_train = np.concatenate((X_train,X_train_copy4), axis = 0)\n",
        "X_train = np.concatenate((X_train,X_train_copy5), axis = 0)\n",
        "\n",
        "X_train = np.concatenate((X_train,X_train_gpt1), axis = 0)\n",
        "X_train = np.concatenate((X_train,X_train_gpt2), axis = 0)\n",
        "\n",
        "# Print the shape of the new vector X_train\n",
        "print(X_train.shape)\n",
        "\n",
        "\n",
        "# Now we copy and concatenate the vector with labels\n",
        "Y_train_copy = copy.copy(Y_train)\n",
        "Y_train_copy1 = copy.copy(Y_train)\n",
        "Y_train_copy2 = copy.copy(Y_train)\n",
        "Y_train_copy3 = copy.copy(Y_train)\n",
        "Y_train_copy4 = copy.copy(Y_train)\n",
        "Y_train_copy5 = copy.copy(Y_train)\n",
        "\n",
        "Y_train_gpt1 = copy.copy(Y_train)\n",
        "Y_train_gpt2 = copy.copy(Y_train)\n",
        "\n",
        "\n",
        "Y_train = np.concatenate((Y_train,Y_train_copy))\n",
        "Y_train = np.concatenate((Y_train,Y_train_copy1))\n",
        "Y_train = np.concatenate((Y_train,Y_train_copy2))\n",
        "Y_train = np.concatenate((Y_train,Y_train_copy3))\n",
        "Y_train = np.concatenate((Y_train,Y_train_copy4))\n",
        "Y_train = np.concatenate((Y_train,Y_train_copy5))\n",
        "\n",
        "Y_train = np.concatenate((Y_train,Y_train_gpt1))\n",
        "Y_train = np.concatenate((Y_train,Y_train_gpt2))\n",
        "\n",
        "# Print the shape of the new vector Y_train\n",
        "print(Y_train.shape)"
      ],
      "metadata": {
        "colab": {
          "base_uri": "https://localhost:8080/"
        },
        "id": "i7j43vSwjhV-",
        "outputId": "f5525338-9d3a-44a2-ee8d-b1f887aa0ceb"
      },
      "execution_count": null,
      "outputs": [
        {
          "output_type": "stream",
          "name": "stdout",
          "text": [
            "(19674, 36, 6)\n",
            "(19674,)\n"
          ]
        }
      ]
    },
    {
      "cell_type": "code",
      "source": [
        "# Layer to add for data augmentation\n",
        "height = tf.keras.layers.RandomHeight(0.3)\n",
        "width = tf.keras.layers.RandomWidth(0.3)\n",
        "zoom = tf.keras.layers.RandomZoom(0.3)\n",
        "flip = tf.keras.layers.RandomFlip()"
      ],
      "metadata": {
        "id": "gXZpXKejjk_l"
      },
      "execution_count": null,
      "outputs": []
    },
    {
      "cell_type": "markdown",
      "source": [
        "#Standardization"
      ],
      "metadata": {
        "id": "swcKTcMskgfl"
      }
    },
    {
      "cell_type": "code",
      "source": [
        "mean = (np.sum(mean))/(2186)\n",
        "std = (np.sum(std))/(2186)\n",
        "print(mean,std)\n",
        "for i in range(X_train.shape[0]):\n",
        "  X_train[i,:,:] = (X_train[i,:,:]-mean)/std\n",
        "for i in range(X_val.shape[0]):\n",
        "  X_val[i,:,:] = (X_val[i,:,:]-mean)/std"
      ],
      "metadata": {
        "colab": {
          "base_uri": "https://localhost:8080/"
        },
        "id": "Yzm_TXvXjm8L",
        "outputId": "897132b8-fc96-4111-cdc7-b38e3fda388c"
      },
      "execution_count": null,
      "outputs": [
        {
          "output_type": "stream",
          "name": "stdout",
          "text": [
            "21.720358984340585 147.340310784677\n"
          ]
        }
      ]
    },
    {
      "cell_type": "markdown",
      "source": [
        "#Convert labels"
      ],
      "metadata": {
        "id": "5j7D2Q5XkrE-"
      }
    },
    {
      "cell_type": "code",
      "source": [
        "# Convert the sparse labels to categorical values\n",
        "Y_train = tfk.utils.to_categorical(Y_train)\n",
        "Y_val = tfk.utils.to_categorical(Y_val)\n",
        "X_train.shape, Y_train.shape"
      ],
      "metadata": {
        "colab": {
          "base_uri": "https://localhost:8080/"
        },
        "id": "HtwSu2ktjrIb",
        "outputId": "3f04c805-6cf7-470d-f31b-651f25014042"
      },
      "execution_count": null,
      "outputs": [
        {
          "output_type": "execute_result",
          "data": {
            "text/plain": [
              "((19674, 36, 6), (19674, 12))"
            ]
          },
          "metadata": {},
          "execution_count": 22
        }
      ]
    },
    {
      "cell_type": "code",
      "source": [
        "input_shape = X_train.shape[1:]\n",
        "classes = Y_train.shape[-1]\n",
        "batch_size = 128\n",
        "epochs = 200\n",
        "X_train.shape[1:]"
      ],
      "metadata": {
        "colab": {
          "base_uri": "https://localhost:8080/"
        },
        "id": "LtiZZZMmjrqr",
        "outputId": "c0601eca-f10e-4d15-ac68-75b389813641"
      },
      "execution_count": null,
      "outputs": [
        {
          "output_type": "execute_result",
          "data": {
            "text/plain": [
              "(36, 6)"
            ]
          },
          "metadata": {},
          "execution_count": 23
        }
      ]
    },
    {
      "cell_type": "markdown",
      "source": [
        "#Build and train the model"
      ],
      "metadata": {
        "id": "4JMTIvkDkuMU"
      }
    },
    {
      "cell_type": "code",
      "source": [
        "def build_1DCNN_classifier(input_shape, classes):\n",
        "    # Build the neural network layer by layer\n",
        "    height,\n",
        "    width,\n",
        "    zoom,\n",
        "    flip,\n",
        "    input_layer = tfkl.Input(shape=input_shape, name='Input')\n",
        "\n",
        "    # Feature extractor\n",
        "    cnn = tfkl.Conv1D(128,3,padding='same',activation='relu')(input_layer)\n",
        "    cnn = tfkl.MaxPooling1D()(cnn)\n",
        "    #dropout = tfkl.Dropout(.5, seed=seed)(cnn)\n",
        "    cnn = tfkl.Conv1D(128,3,padding='same',activation='relu')(cnn)\n",
        "    gap = tfkl.GlobalAveragePooling1D()(cnn)\n",
        "    dropout = tfkl.Dropout(.5, seed=seed)(gap)\n",
        "\n",
        "    # Classifier\n",
        "    classifier = tfkl.Dense(128, activation='relu')(dropout)\n",
        "    output_layer = tfkl.Dense(classes, activation='softmax')(classifier)\n",
        "\n",
        "    # Connect input and output through the Model class\n",
        "    model = tfk.Model(inputs=input_layer, outputs=output_layer, name='model')\n",
        "\n",
        "    # Compile the model\n",
        "    model.compile(loss=tfk.losses.CategoricalCrossentropy(), optimizer=tfk.optimizers.Adam(), metrics='accuracy')\n",
        "\n",
        "    # Return the model\n",
        "    return model"
      ],
      "metadata": {
        "id": "8oVKdHBXjw_m"
      },
      "execution_count": null,
      "outputs": []
    },
    {
      "cell_type": "code",
      "source": [
        "model = build_1DCNN_classifier(input_shape, classes)\n",
        "model.summary()"
      ],
      "metadata": {
        "colab": {
          "base_uri": "https://localhost:8080/"
        },
        "id": "t4YRgSbdj05L",
        "outputId": "bcbfa684-ab80-463d-b93b-43d84c619487"
      },
      "execution_count": null,
      "outputs": [
        {
          "output_type": "stream",
          "name": "stdout",
          "text": [
            "Model: \"model\"\n",
            "_________________________________________________________________\n",
            " Layer (type)                Output Shape              Param #   \n",
            "=================================================================\n",
            " Input (InputLayer)          [(None, 36, 6)]           0         \n",
            "                                                                 \n",
            " conv1d_2 (Conv1D)           (None, 36, 128)           2432      \n",
            "                                                                 \n",
            " max_pooling1d_1 (MaxPooling  (None, 18, 128)          0         \n",
            " 1D)                                                             \n",
            "                                                                 \n",
            " conv1d_3 (Conv1D)           (None, 18, 128)           49280     \n",
            "                                                                 \n",
            " global_average_pooling1d_1   (None, 128)              0         \n",
            " (GlobalAveragePooling1D)                                        \n",
            "                                                                 \n",
            " dropout_1 (Dropout)         (None, 128)               0         \n",
            "                                                                 \n",
            " dense_2 (Dense)             (None, 128)               16512     \n",
            "                                                                 \n",
            " dense_3 (Dense)             (None, 12)                1548      \n",
            "                                                                 \n",
            "=================================================================\n",
            "Total params: 69,772\n",
            "Trainable params: 69,772\n",
            "Non-trainable params: 0\n",
            "_________________________________________________________________\n"
          ]
        }
      ]
    },
    {
      "cell_type": "code",
      "source": [
        "# Train the model\n",
        "history = model.fit(\n",
        "    x = X_train,\n",
        "    y = Y_train,\n",
        "    batch_size = batch_size,\n",
        "    epochs = epochs,\n",
        "    validation_data = (X_val,Y_val),\n",
        "    callbacks = [\n",
        "        tfk.callbacks.EarlyStopping(monitor='val_accuracy', mode='max', patience=10, restore_best_weights=True),\n",
        "        tfk.callbacks.ReduceLROnPlateau(monitor='val_accuracy', mode='max', patience=5, factor=0.5, min_lr=1e-5)\n",
        "    ]\n",
        ").history"
      ],
      "metadata": {
        "colab": {
          "base_uri": "https://localhost:8080/"
        },
        "id": "HX5WWdQaj4G0",
        "outputId": "1c792ffd-634d-4a21-f87b-c2c1871a3029"
      },
      "execution_count": null,
      "outputs": [
        {
          "output_type": "stream",
          "name": "stdout",
          "text": [
            "Epoch 1/200\n",
            "154/154 [==============================] - 4s 21ms/step - loss: 2.0185 - accuracy: 0.3584 - val_loss: 1.7077 - val_accuracy: 0.4403 - lr: 0.0010\n",
            "Epoch 2/200\n",
            "154/154 [==============================] - 3s 20ms/step - loss: 1.6860 - accuracy: 0.4335 - val_loss: 1.4813 - val_accuracy: 0.4979 - lr: 0.0010\n",
            "Epoch 3/200\n",
            "154/154 [==============================] - 3s 20ms/step - loss: 1.4775 - accuracy: 0.4959 - val_loss: 1.3299 - val_accuracy: 0.5514 - lr: 0.0010\n",
            "Epoch 4/200\n",
            "154/154 [==============================] - 3s 20ms/step - loss: 1.3470 - accuracy: 0.5401 - val_loss: 1.2689 - val_accuracy: 0.6173 - lr: 0.0010\n",
            "Epoch 5/200\n",
            "154/154 [==============================] - 3s 20ms/step - loss: 1.2382 - accuracy: 0.5856 - val_loss: 1.2141 - val_accuracy: 0.6296 - lr: 0.0010\n",
            "Epoch 6/200\n",
            "154/154 [==============================] - 3s 20ms/step - loss: 1.1901 - accuracy: 0.6052 - val_loss: 1.2129 - val_accuracy: 0.6502 - lr: 0.0010\n",
            "Epoch 7/200\n",
            "154/154 [==============================] - 3s 20ms/step - loss: 1.1356 - accuracy: 0.6215 - val_loss: 1.1725 - val_accuracy: 0.6420 - lr: 0.0010\n",
            "Epoch 8/200\n",
            "154/154 [==============================] - 3s 20ms/step - loss: 1.0832 - accuracy: 0.6359 - val_loss: 1.1446 - val_accuracy: 0.6502 - lr: 0.0010\n",
            "Epoch 9/200\n",
            "154/154 [==============================] - 4s 27ms/step - loss: 1.0687 - accuracy: 0.6417 - val_loss: 1.1834 - val_accuracy: 0.6461 - lr: 0.0010\n",
            "Epoch 10/200\n",
            "154/154 [==============================] - 3s 22ms/step - loss: 1.0268 - accuracy: 0.6547 - val_loss: 1.1271 - val_accuracy: 0.6667 - lr: 0.0010\n",
            "Epoch 11/200\n",
            "154/154 [==============================] - 4s 25ms/step - loss: 0.9963 - accuracy: 0.6620 - val_loss: 1.0658 - val_accuracy: 0.6749 - lr: 0.0010\n",
            "Epoch 12/200\n",
            "154/154 [==============================] - 3s 20ms/step - loss: 0.9909 - accuracy: 0.6647 - val_loss: 1.1814 - val_accuracy: 0.6502 - lr: 0.0010\n",
            "Epoch 13/200\n",
            "154/154 [==============================] - 3s 20ms/step - loss: 0.9544 - accuracy: 0.6745 - val_loss: 1.0358 - val_accuracy: 0.6872 - lr: 0.0010\n",
            "Epoch 14/200\n",
            "154/154 [==============================] - 3s 20ms/step - loss: 0.9493 - accuracy: 0.6790 - val_loss: 1.0472 - val_accuracy: 0.6749 - lr: 0.0010\n",
            "Epoch 15/200\n",
            "154/154 [==============================] - 3s 20ms/step - loss: 0.9230 - accuracy: 0.6834 - val_loss: 1.0434 - val_accuracy: 0.6872 - lr: 0.0010\n",
            "Epoch 16/200\n",
            "154/154 [==============================] - 3s 20ms/step - loss: 0.8986 - accuracy: 0.6914 - val_loss: 1.0646 - val_accuracy: 0.6831 - lr: 0.0010\n",
            "Epoch 17/200\n",
            "154/154 [==============================] - 3s 21ms/step - loss: 0.8957 - accuracy: 0.6936 - val_loss: 1.0328 - val_accuracy: 0.6831 - lr: 0.0010\n",
            "Epoch 18/200\n",
            "154/154 [==============================] - 4s 24ms/step - loss: 0.8760 - accuracy: 0.6996 - val_loss: 1.0814 - val_accuracy: 0.6872 - lr: 0.0010\n",
            "Epoch 19/200\n",
            "154/154 [==============================] - 3s 20ms/step - loss: 0.8452 - accuracy: 0.7064 - val_loss: 1.0349 - val_accuracy: 0.6996 - lr: 5.0000e-04\n",
            "Epoch 20/200\n",
            "154/154 [==============================] - 3s 20ms/step - loss: 0.8402 - accuracy: 0.7107 - val_loss: 1.0700 - val_accuracy: 0.6996 - lr: 5.0000e-04\n",
            "Epoch 21/200\n",
            "154/154 [==============================] - 3s 20ms/step - loss: 0.8247 - accuracy: 0.7128 - val_loss: 1.0976 - val_accuracy: 0.6914 - lr: 5.0000e-04\n",
            "Epoch 22/200\n",
            "154/154 [==============================] - 3s 20ms/step - loss: 0.8241 - accuracy: 0.7138 - val_loss: 1.0241 - val_accuracy: 0.6955 - lr: 5.0000e-04\n",
            "Epoch 23/200\n",
            "154/154 [==============================] - 3s 20ms/step - loss: 0.8107 - accuracy: 0.7218 - val_loss: 1.0552 - val_accuracy: 0.6790 - lr: 5.0000e-04\n",
            "Epoch 24/200\n",
            "154/154 [==============================] - 3s 20ms/step - loss: 0.8018 - accuracy: 0.7229 - val_loss: 1.0830 - val_accuracy: 0.6955 - lr: 5.0000e-04\n",
            "Epoch 25/200\n",
            "154/154 [==============================] - 3s 20ms/step - loss: 0.7901 - accuracy: 0.7257 - val_loss: 1.0633 - val_accuracy: 0.6872 - lr: 2.5000e-04\n",
            "Epoch 26/200\n",
            "154/154 [==============================] - 3s 20ms/step - loss: 0.7851 - accuracy: 0.7278 - val_loss: 1.0501 - val_accuracy: 0.6996 - lr: 2.5000e-04\n",
            "Epoch 27/200\n",
            "154/154 [==============================] - 3s 20ms/step - loss: 0.7821 - accuracy: 0.7258 - val_loss: 1.0577 - val_accuracy: 0.6996 - lr: 2.5000e-04\n",
            "Epoch 28/200\n",
            "154/154 [==============================] - 3s 20ms/step - loss: 0.7772 - accuracy: 0.7280 - val_loss: 1.0101 - val_accuracy: 0.7037 - lr: 2.5000e-04\n",
            "Epoch 29/200\n",
            "154/154 [==============================] - 3s 20ms/step - loss: 0.7693 - accuracy: 0.7339 - val_loss: 1.0168 - val_accuracy: 0.6914 - lr: 2.5000e-04\n",
            "Epoch 30/200\n",
            "154/154 [==============================] - 3s 20ms/step - loss: 0.7682 - accuracy: 0.7322 - val_loss: 1.0412 - val_accuracy: 0.6914 - lr: 2.5000e-04\n",
            "Epoch 31/200\n",
            "154/154 [==============================] - 3s 20ms/step - loss: 0.7617 - accuracy: 0.7370 - val_loss: 1.0543 - val_accuracy: 0.6955 - lr: 2.5000e-04\n",
            "Epoch 32/200\n",
            "154/154 [==============================] - 3s 20ms/step - loss: 0.7573 - accuracy: 0.7376 - val_loss: 1.0699 - val_accuracy: 0.6955 - lr: 2.5000e-04\n",
            "Epoch 33/200\n",
            "154/154 [==============================] - 3s 20ms/step - loss: 0.7614 - accuracy: 0.7380 - val_loss: 1.0473 - val_accuracy: 0.6914 - lr: 2.5000e-04\n",
            "Epoch 34/200\n",
            "154/154 [==============================] - 3s 20ms/step - loss: 0.7501 - accuracy: 0.7392 - val_loss: 1.0438 - val_accuracy: 0.7037 - lr: 1.2500e-04\n",
            "Epoch 35/200\n",
            "154/154 [==============================] - 3s 20ms/step - loss: 0.7427 - accuracy: 0.7425 - val_loss: 1.0373 - val_accuracy: 0.6955 - lr: 1.2500e-04\n",
            "Epoch 36/200\n",
            "154/154 [==============================] - 3s 21ms/step - loss: 0.7478 - accuracy: 0.7403 - val_loss: 1.0363 - val_accuracy: 0.6872 - lr: 1.2500e-04\n",
            "Epoch 37/200\n",
            "154/154 [==============================] - 3s 20ms/step - loss: 0.7388 - accuracy: 0.7446 - val_loss: 1.0428 - val_accuracy: 0.6955 - lr: 1.2500e-04\n",
            "Epoch 38/200\n",
            "154/154 [==============================] - 3s 20ms/step - loss: 0.7425 - accuracy: 0.7426 - val_loss: 1.0358 - val_accuracy: 0.7078 - lr: 1.2500e-04\n",
            "Epoch 39/200\n",
            "154/154 [==============================] - 3s 20ms/step - loss: 0.7359 - accuracy: 0.7451 - val_loss: 1.0255 - val_accuracy: 0.6955 - lr: 1.2500e-04\n",
            "Epoch 40/200\n",
            "154/154 [==============================] - 3s 21ms/step - loss: 0.7354 - accuracy: 0.7448 - val_loss: 1.0172 - val_accuracy: 0.6955 - lr: 1.2500e-04\n",
            "Epoch 41/200\n",
            "154/154 [==============================] - 3s 20ms/step - loss: 0.7337 - accuracy: 0.7456 - val_loss: 1.0302 - val_accuracy: 0.7078 - lr: 1.2500e-04\n",
            "Epoch 42/200\n",
            "154/154 [==============================] - 3s 20ms/step - loss: 0.7302 - accuracy: 0.7451 - val_loss: 1.0411 - val_accuracy: 0.6872 - lr: 1.2500e-04\n",
            "Epoch 43/200\n",
            "154/154 [==============================] - 3s 20ms/step - loss: 0.7295 - accuracy: 0.7463 - val_loss: 1.0381 - val_accuracy: 0.6914 - lr: 1.2500e-04\n",
            "Epoch 44/200\n",
            "154/154 [==============================] - 3s 20ms/step - loss: 0.7241 - accuracy: 0.7503 - val_loss: 1.0392 - val_accuracy: 0.6872 - lr: 6.2500e-05\n",
            "Epoch 45/200\n",
            "154/154 [==============================] - 3s 20ms/step - loss: 0.7232 - accuracy: 0.7486 - val_loss: 1.0421 - val_accuracy: 0.6872 - lr: 6.2500e-05\n",
            "Epoch 46/200\n",
            "154/154 [==============================] - 3s 21ms/step - loss: 0.7230 - accuracy: 0.7495 - val_loss: 1.0486 - val_accuracy: 0.6955 - lr: 6.2500e-05\n",
            "Epoch 47/200\n",
            "154/154 [==============================] - 3s 20ms/step - loss: 0.7224 - accuracy: 0.7506 - val_loss: 1.0486 - val_accuracy: 0.6914 - lr: 6.2500e-05\n",
            "Epoch 48/200\n",
            "154/154 [==============================] - 3s 20ms/step - loss: 0.7257 - accuracy: 0.7475 - val_loss: 1.0552 - val_accuracy: 0.6831 - lr: 6.2500e-05\n"
          ]
        }
      ]
    },
    {
      "cell_type": "code",
      "source": [
        "# We plot the trend of the loss function, the accuracy on both training and valiation\n",
        "# set and the trend of the learning rate\n",
        "\n",
        "best_epoch = np.argmax(history['val_accuracy'])\n",
        "plt.figure(figsize=(17,4))\n",
        "plt.plot(history['loss'], label='Training loss', alpha=.8, color='#ff7f0e')\n",
        "plt.plot(history['val_loss'], label='Validation loss', alpha=.9, color='#5a9aa5')\n",
        "plt.axvline(x=best_epoch, label='Best epoch', alpha=.3, ls='--', color='#5a9aa5')\n",
        "plt.title('Categorical Crossentropy')\n",
        "plt.legend()\n",
        "plt.grid(alpha=.3)\n",
        "plt.show()\n",
        "\n",
        "plt.figure(figsize=(17,4))\n",
        "plt.plot(history['accuracy'], label='Training accuracy', alpha=.8, color='#ff7f0e')\n",
        "plt.plot(history['val_accuracy'], label='Validation accuracy', alpha=.9, color='#5a9aa5')\n",
        "plt.axvline(x=best_epoch, label='Best epoch', alpha=.3, ls='--', color='#5a9aa5')\n",
        "plt.title('Accuracy')\n",
        "plt.legend()\n",
        "plt.grid(alpha=.3)\n",
        "plt.show()\n",
        "\n",
        "plt.figure(figsize=(18,3))\n",
        "plt.plot(history['lr'], label='Learning Rate', alpha=.8, color='#ff7f0e')\n",
        "plt.axvline(x=best_epoch, label='Best epoch', alpha=.3, ls='--', color='#5a9aa5')\n",
        "plt.legend()\n",
        "plt.grid(alpha=.3)\n",
        "plt.show()"
      ],
      "metadata": {
        "colab": {
          "base_uri": "https://localhost:8080/",
          "height": 764
        },
        "id": "tzXTef_GlJ5V",
        "outputId": "ce3436d1-e818-4139-af14-d958d894454e"
      },
      "execution_count": null,
      "outputs": [
        {
          "output_type": "display_data",
          "data": {
            "text/plain": [
              "<Figure size 1224x288 with 1 Axes>"
            ],
            "image/png": "[encoded data removed]"
          },
          "metadata": {
            "needs_background": "light"
          }
        },
        {
          "output_type": "display_data",
          "data": {
            "text/plain": [
              "<Figure size 1224x288 with 1 Axes>"
            ],
            "image/png": "[encoded data removed]"
          },
          "metadata": {
            "needs_background": "light"
          }
        },
        {
          "output_type": "display_data",
          "data": {
            "text/plain": [
              "<Figure size 1296x216 with 1 Axes>"
            ],
            "image/png": "[encoded data removed]"
          },
          "metadata": {
            "needs_background": "light"
          }
        }
      ]
    }
  ]
}